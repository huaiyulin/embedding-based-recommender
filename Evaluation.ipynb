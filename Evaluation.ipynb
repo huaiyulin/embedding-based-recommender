{
 "cells": [
  {
   "cell_type": "code",
   "execution_count": 14,
   "metadata": {},
   "outputs": [],
   "source": [
    "import csv\n",
    "import numpy as np\n",
    "\n",
    "def movieLensOffline(predict_path, answer_path):\n",
    "    # answer_path = 'movielens_offline_test.csv'\n",
    "    # predict_path = 'movielens_offline_sample_predict.csv'\n",
    "    data_pre  = []\n",
    "    data_ans  = []\n",
    "    data_eval = []\n",
    "\n",
    "    with open(predict_path, newline='') as f:\n",
    "        rows = csv.reader(f)\n",
    "        for row in rows:\n",
    "            data_pre.append(row)\n",
    "    with open(answer_path, newline='') as f:\n",
    "        rows = csv.reader(f)\n",
    "        for row in rows:\n",
    "            data_ans.append(row)\n",
    "\n",
    "    data_pre.sort(key=(lambda x:x[0]))\n",
    "    data_ans.sort(key=(lambda x:x[0]))\n",
    "\n",
    "    rank_all = []\n",
    "    for i in range(len(data_ans)):\n",
    "        ans = data_ans[i][1]\n",
    "        pre_list = data_pre[i][1]\n",
    "        pre_list = [x for x in pre_list.split() if (x != '[') and (x != ']')]\n",
    "        r = 0\n",
    "        try:\n",
    "            r = pre_list.index(ans) + 1\n",
    "        except:\n",
    "            r = 0\n",
    "        rank_all.append(r)\n",
    "\n",
    "    mrr = sum([1/x for x in rank_all if x > 0])/len(rank_all)\n",
    "    hr  = len([x for x in rank_all if x > 0])/len(rank_all)\n",
    "    print(\"HR  = {}\".format(hr))\n",
    "    print(\"MRR = {}\".format(mrr))\n",
    "    \n",
    "\n",
    "def movieLensOnline(predict_path, answer_path):\n",
    "    answer_path = 'movielens_online_test.csv'\n",
    "    predict_path = 'movielens_online_sample_predict.csv'\n",
    "    data_pre  = []\n",
    "    data_ans  = []\n",
    "    data_eval = []\n",
    "\n",
    "    with open(predict_path, newline='') as f:\n",
    "        rows = csv.reader(f)\n",
    "        for row in rows:\n",
    "            data_pre.append(row)\n",
    "    with open(answer_path, newline='') as f:\n",
    "        rows = csv.reader(f)\n",
    "        for row in rows:\n",
    "            data_ans.append(row)\n",
    "\n",
    "    data_pre.sort(key=(lambda x:x[0]))\n",
    "    data_pre.sort(key=(lambda x:x[1]))\n",
    "    data_ans.sort(key=(lambda x:x[0]))\n",
    "    data_ans.sort(key=(lambda x:x[-1]))\n",
    "\n",
    "    rank_all = []\n",
    "    for i in range(len(data_ans)):\n",
    "        ans = data_ans[i][1]\n",
    "        pre_list = list(map(str,data_pre[i][2:]))\n",
    "        try:\n",
    "            r = pre_list.index(ans) + 1\n",
    "        except:\n",
    "            r = 0\n",
    "        rank_all.append(r)\n",
    "    \n",
    "    def reciprocal(x):\n",
    "        if x == 0:\n",
    "            return 0\n",
    "        else:\n",
    "            return 1./float(x)\n",
    "    def numTo01(x):\n",
    "        return int(bool(x))\n",
    "    \n",
    "    # result = np.asarray(rank_all)\n",
    "    mrr_list = list(map(reciprocal,rank_all))\n",
    "    hr_list  = list(map(numTo01,rank_all))\n",
    "    testing 10000\n",
    "    [1,1/2,0,....,n10000]\n",
    "    [1,0,1,....,n10000]\n",
    "    return mrr_list, hr_list"
   ]
  },
  {
   "cell_type": "code",
   "execution_count": 16,
   "metadata": {},
   "outputs": [
    {
     "name": "stdout",
     "output_type": "stream",
     "text": [
      "HR  = 0.0\n",
      "MRR = 0.0\n"
     ]
    }
   ],
   "source": [
    "movieLensOffline('predict_offline.csv','movielens_offline_test.csv')"
   ]
  },
  {
   "cell_type": "code",
   "execution_count": 17,
   "metadata": {},
   "outputs": [
    {
     "name": "stdout",
     "output_type": "stream",
     "text": [
      "HR  = 0.09836065573770492\n",
      "MRR = 0.0031808275328899806\n"
     ]
    }
   ],
   "source": [
    "movieLensOffline('1.csv','movielens_offline_test.csv')"
   ]
  },
  {
   "cell_type": "code",
   "execution_count": 3,
   "metadata": {},
   "outputs": [],
   "source": [
    "data = []\n",
    "with open('1.csv', newline='') as f:\n",
    "    rows = csv.reader(f)\n",
    "    for row in rows:\n",
    "        data.append(row)\n"
   ]
  },
  {
   "cell_type": "code",
   "execution_count": 4,
   "metadata": {},
   "outputs": [
    {
     "data": {
      "text/plain": [
       "['429',\n",
       " '[  1222   1923    208   1215   1214  48516    204   1213   4226   1210\\n  89745   5618   2628  33493    196   1208   1221    193   1917   1225\\n    231    350  54286   2617   1246    225    224    223   3147 106782\\n    608   1240    353    356    357    432    349    500   1206   2858\\n  44191    168    648  70286    165 134130    163 122904    161    160\\n    318    158    485    376   1193    364    172   1196   1653   1961\\n  48780    186    185   1968   1201   1200    494    367   1198    368\\n    370   1197  33794    173    597    235    236    551   5989    293\\n    292    520    552   1704    288 112552   5952    553    555    329\\n    282    333    296   1682  68157    300    317    316    315    527]']"
      ]
     },
     "execution_count": 4,
     "metadata": {},
     "output_type": "execute_result"
    }
   ],
   "source": [
    "data[0]"
   ]
  },
  {
   "cell_type": "code",
   "execution_count": 8,
   "metadata": {},
   "outputs": [],
   "source": [
    "rec_list = data[0][1]"
   ]
  },
  {
   "cell_type": "code",
   "execution_count": 11,
   "metadata": {},
   "outputs": [],
   "source": [
    "rec_list = [x for x in rec_list.split() if (x != '[') and (x != ']')]"
   ]
  },
  {
   "cell_type": "code",
   "execution_count": 13,
   "metadata": {},
   "outputs": [
    {
     "data": {
      "text/plain": [
       "100"
      ]
     },
     "execution_count": 13,
     "metadata": {},
     "output_type": "execute_result"
    }
   ],
   "source": [
    "len(rec_list)"
   ]
  },
  {
   "cell_type": "code",
   "execution_count": null,
   "metadata": {},
   "outputs": [],
   "source": []
  }
 ],
 "metadata": {
  "kernelspec": {
   "display_name": "Python 3",
   "language": "python",
   "name": "python3"
  },
  "language_info": {
   "codemirror_mode": {
    "name": "ipython",
    "version": 3
   },
   "file_extension": ".py",
   "mimetype": "text/x-python",
   "name": "python",
   "nbconvert_exporter": "python",
   "pygments_lexer": "ipython3",
   "version": "3.5.2"
  }
 },
 "nbformat": 4,
 "nbformat_minor": 2
}
