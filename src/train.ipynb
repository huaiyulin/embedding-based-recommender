{
 "cells": [
  {
   "cell_type": "code",
   "execution_count": 1,
   "metadata": {},
   "outputs": [
    {
     "name": "stderr",
     "output_type": "stream",
     "text": [
      "Using TensorFlow backend.\n",
      "/Users/Yu/anaconda3/envs/recommender/lib/python3.6/importlib/_bootstrap.py:219: RuntimeWarning: compiletime version 3.5 of module 'tensorflow.python.framework.fast_tensor_util' does not match runtime version 3.6\n",
      "  return f(*args, **kwds)\n"
     ]
    }
   ],
   "source": [
    "import logging\n",
    "import os\n",
    "from annoy import AnnoyIndex\n",
    "import random\n",
    "import pandas as pd\n",
    "import random\n",
    "\n",
    "from preprocessor import Preprocessor\n",
    "from user_model import UserModel\n",
    "from recommender import Recommender\n",
    "\n",
    "data_source_dir = '../data' \n",
    "output_name = '0504'\n",
    "news_train_dates = {'start':24,'end':26}\n",
    "news_candidates_dates = {'start':25,'end':26}\n",
    "news_train_paths = [os.path.join(data_source_dir,'event-201904{}.pkl'.format(str(x).zfill(2))) for x in range(news_train_dates['start'], news_train_dates['end'])]\n",
    "news_candidates_paths = [os.path.join(data_source_dir,'event-201904{}.pkl'.format(str(x).zfill(2))) for x in range(news_candidates_dates['start'], news_candidates_dates['end'])]\n",
    "news_vec_pool_pah = os.path.join(data_source_dir,'news_vec_dC_off.pkl')\n",
    "\n",
    "def logging_setup():\n",
    "    logging.basicConfig(\n",
    "        format='%(asctime)s | %(levelname)s | %(name)s: %(message)s',\n",
    "        level=logging.INFO, datefmt='%m-%d %H:%M:%S'\n",
    "    )"
   ]
  },
  {
   "cell_type": "code",
   "execution_count": 2,
   "metadata": {},
   "outputs": [
    {
     "name": "stderr",
     "output_type": "stream",
     "text": [
      "05-06 14:56:28 | INFO | root: =============== START RUNNING ===============\n"
     ]
    }
   ],
   "source": [
    "logging_setup()\n",
    "logging.info('=============== START RUNNING ===============')"
   ]
  },
  {
   "cell_type": "code",
   "execution_count": 3,
   "metadata": {},
   "outputs": [
    {
     "name": "stderr",
     "output_type": "stream",
     "text": [
      "05-05 15:50:00 | INFO | preprocessor: loading 2 days events for model training...\n"
     ]
    }
   ],
   "source": [
    "preprocessor = Preprocessor(dir=data_source_dir,name=output_name)\n",
    "preprocessor.load_news_vec_pool(news_vec_pool_pah)\n",
    "preprocessor.load_datas_for_user_model(news_train_paths)"
   ]
  },
  {
   "cell_type": "code",
   "execution_count": null,
   "metadata": {},
   "outputs": [
    {
     "name": "stderr",
     "output_type": "stream",
     "text": [
      "05-05 15:50:16 | INFO | preprocessor: building user_to_news_list...\n",
      "05-05 15:50:16 | INFO | preprocessor: - cleanning data...\n",
      "05-05 15:50:22 | INFO | preprocessor: - drop duplicating user/item pairs...\n",
      "05-05 15:50:40 | INFO | preprocessor: - sorting events...\n",
      "05-05 15:50:50 | INFO | preprocessor: - grouping news_id by user_id...\n",
      "05-05 15:50:50 | INFO | preprocessor: - convert news history into dictionary...\n",
      "05-05 15:51:29 | INFO | preprocessor: - saving user_to_news_list...\n",
      "05-05 15:51:37 | INFO | preprocessor: - complete saving user_to_news_list.\n",
      "05-05 15:51:38 | INFO | preprocessor: building sampling_pool...\n",
      "05-05 15:51:38 | INFO | preprocessor: - cleanning data...\n",
      "05-05 15:51:40 | INFO | preprocessor: - drop duplicating user/item pairs...\n",
      "05-05 15:51:57 | INFO | preprocessor: - complete building sampling_pool.\n",
      "05-05 15:51:58 | INFO | preprocessor: building user_news_vec_pairs...\n",
      "05-05 15:54:02 | INFO | preprocessor: 260966 user_news_vec_pairs builded...\n",
      "05-05 16:01:23 | INFO | preprocessor: - complete saving user_to_news_pos_vec.\n"
     ]
    }
   ],
   "source": [
    "preprocessor.build_user_to_news_history_custom()\n",
    "preprocessor.build_sampling_pool(top = 5000, at_least = 10)\n",
    "preprocessor.build_vec_pairs_from_history(at_least=10)\n",
    "preprocessor.load_datas_for_candidates_pool(news_candidates_paths)\n",
    "preprocessor.build_candidates_pool(top = 5000, at_least = 10)"
   ]
  },
  {
   "cell_type": "code",
   "execution_count": null,
   "metadata": {},
   "outputs": [],
   "source": [
    "preprocessor.build_user_to_news_history()"
   ]
  },
  {
   "cell_type": "code",
   "execution_count": null,
   "metadata": {},
   "outputs": [],
   "source": [
    "k,v = zip(*preprocessor.user_to_news_pos_vec.items())\n",
    "len(preprocessor.user_to_news_pos_vec)"
   ]
  },
  {
   "cell_type": "code",
   "execution_count": 3,
   "metadata": {},
   "outputs": [
    {
     "name": "stderr",
     "output_type": "stream",
     "text": [
      "05-06 15:37:00 | INFO | user_model: loading reading history...\n",
      "05-06 15:37:46 | INFO | user_model: - users: 260966\n",
      "05-06 15:37:46 | INFO | user_model: - complete loading reading history...\n",
      "05-06 15:37:46 | INFO | user_model: building user-vectors...\n",
      "05-06 15:37:46 | INFO | user_model: - news-threshold: 10\n",
      "05-06 15:37:52 | INFO | user_model: - qualified users: 259155\n",
      "05-06 15:37:53 | INFO | user_model: - complete building news vectors list\n",
      "05-06 15:40:08 | INFO | user_model: ******** model setting *********\n",
      "05-06 15:40:08 | INFO | user_model: *****\n",
      "05-06 15:40:09 | INFO | user_model: *****   model:GRU\n",
      "05-06 15:40:09 | INFO | user_model: *****   init :False\n",
      "05-06 15:40:09 | INFO | user_model: *****   negs :False\n",
      "05-06 15:40:09 | INFO | user_model: *****\n",
      "05-06 15:40:09 | INFO | user_model: ********************************\n"
     ]
    },
    {
     "name": "stdout",
     "output_type": "stream",
     "text": [
      "Train on 233239 samples, validate on 25916 samples\n",
      "Epoch 1/20\n",
      "227552/233239 [============================>.] - ETA: 41s - loss: 0.0311"
     ]
    },
    {
     "name": "stderr",
     "output_type": "stream",
     "text": [
      "05-06 16:08:07 | ERROR | root: Internal Python error in the inspect module.\n",
      "Below is the traceback from this internal error.\n",
      "\n",
      "05-06 16:08:07 | INFO | root: \n",
      "Unfortunately, your original traceback can not be constructed.\n",
      "\n",
      "\n",
      "KeyboardInterrupt\n",
      "\n"
     ]
    },
    {
     "name": "stdout",
     "output_type": "stream",
     "text": [
      "Traceback (most recent call last):\n",
      "  File \"/Users/Yu/anaconda3/envs/recommender/lib/python3.6/site-packages/IPython/core/interactiveshell.py\", line 3267, in run_code\n",
      "    exec(code_obj, self.user_global_ns, self.user_ns)\n",
      "  File \"<ipython-input-4-d6765c388804>\", line 11, in <module>\n",
      "    neg_sampling=False)\n",
      "  File \"/Users/Yu/Documents/Course/NTU_MSlab/MSlab_news_rec/embedding-based-recommender/src/user_model.py\", line 164, in model_training\n",
      "    model.fit(X_train,Y_train, epochs=epochs, batch_size=batch_size, validation_split=validation_split, callbacks=[callback])\n",
      "  File \"/Users/Yu/anaconda3/envs/recommender/lib/python3.6/site-packages/keras/engine/training.py\", line 1657, in fit\n",
      "    validation_steps=validation_steps)\n",
      "  File \"/Users/Yu/anaconda3/envs/recommender/lib/python3.6/site-packages/keras/engine/training.py\", line 1204, in _fit_loop\n",
      "    ins_batch = _slice_arrays(ins, batch_ids)\n",
      "  File \"/Users/Yu/anaconda3/envs/recommender/lib/python3.6/site-packages/keras/engine/training.py\", line 415, in _slice_arrays\n",
      "    return [None if x is None else x[start] for x in arrays]\n",
      "  File \"/Users/Yu/anaconda3/envs/recommender/lib/python3.6/site-packages/keras/engine/training.py\", line 415, in <listcomp>\n",
      "    return [None if x is None else x[start] for x in arrays]\n",
      "KeyboardInterrupt\n",
      "\n",
      "During handling of the above exception, another exception occurred:\n",
      "\n",
      "Traceback (most recent call last):\n",
      "  File \"/Users/Yu/anaconda3/envs/recommender/lib/python3.6/site-packages/IPython/core/interactiveshell.py\", line 3270, in run_code\n",
      "    sys.excepthook = old_excepthook\n",
      "KeyboardInterrupt\n",
      "\n",
      "During handling of the above exception, another exception occurred:\n",
      "\n",
      "Traceback (most recent call last):\n",
      "  File \"/Users/Yu/anaconda3/envs/recommender/lib/python3.6/site-packages/IPython/core/interactiveshell.py\", line 3185, in run_ast_nodes\n",
      "    if (yield from self.run_code(code, result)):\n",
      "  File \"/Users/Yu/anaconda3/envs/recommender/lib/python3.6/site-packages/IPython/core/interactiveshell.py\", line 3283, in run_code\n",
      "    result.error_in_exec = sys.exc_info()[1]\n",
      "KeyboardInterrupt\n",
      "\n",
      "During handling of the above exception, another exception occurred:\n",
      "\n",
      "Traceback (most recent call last):\n",
      "  File \"/Users/Yu/anaconda3/envs/recommender/lib/python3.6/site-packages/IPython/core/interactiveshell.py\", line 2845, in _run_cell\n",
      "    return runner(coro)\n",
      "  File \"/Users/Yu/anaconda3/envs/recommender/lib/python3.6/site-packages/IPython/core/async_helpers.py\", line 67, in _pseudo_sync_runner\n",
      "    coro.send(None)\n",
      "  File \"/Users/Yu/anaconda3/envs/recommender/lib/python3.6/site-packages/IPython/core/interactiveshell.py\", line 3020, in run_cell_async\n",
      "    interactivity=interactivity, compiler=compiler, result=result)\n",
      "  File \"/Users/Yu/anaconda3/envs/recommender/lib/python3.6/site-packages/IPython/core/interactiveshell.py\", line 3185, in run_ast_nodes\n",
      "    if (yield from self.run_code(code, result)):\n",
      "KeyboardInterrupt\n",
      "\n",
      "During handling of the above exception, another exception occurred:\n",
      "\n",
      "Traceback (most recent call last):\n",
      "  File \"/Users/Yu/anaconda3/envs/recommender/lib/python3.6/site-packages/IPython/core/interactiveshell.py\", line 2018, in showtraceback\n",
      "    stb = value._render_traceback_()\n",
      "AttributeError: 'KeyboardInterrupt' object has no attribute '_render_traceback_'\n",
      "\n",
      "During handling of the above exception, another exception occurred:\n",
      "\n",
      "Traceback (most recent call last):\n",
      "  File \"/Users/Yu/anaconda3/envs/recommender/lib/python3.6/site-packages/IPython/core/ultratb.py\", line 1095, in get_records\n",
      "    return _fixed_getinnerframes(etb, number_of_lines_of_context, tb_offset)\n",
      "  File \"/Users/Yu/anaconda3/envs/recommender/lib/python3.6/site-packages/IPython/core/ultratb.py\", line 313, in wrapped\n",
      "    return f(*args, **kwargs)\n",
      "  File \"/Users/Yu/anaconda3/envs/recommender/lib/python3.6/site-packages/IPython/core/ultratb.py\", line 347, in _fixed_getinnerframes\n",
      "    records = fix_frame_records_filenames(inspect.getinnerframes(etb, context))\n",
      "  File \"/Users/Yu/anaconda3/envs/recommender/lib/python3.6/inspect.py\", line 1488, in getinnerframes\n",
      "    frameinfo = (tb.tb_frame,) + getframeinfo(tb, context)\n",
      "  File \"/Users/Yu/anaconda3/envs/recommender/lib/python3.6/inspect.py\", line 1438, in getframeinfo\n",
      "    if istraceback(frame):\n",
      "  File \"/Users/Yu/anaconda3/envs/recommender/lib/python3.6/inspect.py\", line 237, in istraceback\n",
      "    return isinstance(object, types.TracebackType)\n",
      "KeyboardInterrupt\n"
     ]
    }
   ],
   "source": [
    "user_model = UserModel(dir=data_source_dir,name=output_name)\n",
    "user_model.load_news_history()\n",
    "user_model.model_training(start=0,\n",
    "                          items=10,\n",
    "                          N=10,\n",
    "                          epochs=20, \n",
    "                          batch_size=32, \n",
    "                          model_type='GRU', \n",
    "                          validation_split=0.1,\n",
    "                          init_rnn_by_avg=False,\n",
    "                         neg_sampling=False)\n",
    "user_model.save_user_vec_pool()\n",
    "user_model.save_user_model()\n",
    "user_model.load_user_model()\n",
    "user_model.load_news_history()"
   ]
  },
  {
   "cell_type": "code",
   "execution_count": null,
   "metadata": {},
   "outputs": [],
   "source": [
    "recommender = Recommender(dir=data_source_dir,name=output_name)\n",
    "recommender.load_vec_pool()\n",
    "recommender.build_annoy_indexer()"
   ]
  },
  {
   "cell_type": "code",
   "execution_count": null,
   "metadata": {},
   "outputs": [],
   "source": [
    "user_id, user_vec = random.choice(list(recommender.user_vec_pool.items()))\n",
    "news_id, news_vec = random.choice(list(recommender.news_vec_pool.items()))\n",
    "rec_list = recommender.get_ranking_list_by_both(user_id,news_id, realtime=True, items=20)\n",
    "\n",
    "print(rec_list)\n",
    "# r_list_u = recommender.get_ranking_list_by_annoy(user_id=u_id,items=10)\n",
    "# r_list_n = recommender.get_ranking_list_by_annoy(news_id=n_id,items=10)"
   ]
  },
  {
   "cell_type": "code",
   "execution_count": null,
   "metadata": {},
   "outputs": [],
   "source": [
    "#### EXPERIMENT"
   ]
  },
  {
   "cell_type": "code",
   "execution_count": null,
   "metadata": {},
   "outputs": [],
   "source": [
    "a = pd.read_pickle(os.path.join(data_source_dir,'event-20190424.pkl'))"
   ]
  },
  {
   "cell_type": "code",
   "execution_count": null,
   "metadata": {},
   "outputs": [],
   "source": [
    "len(a)"
   ]
  },
  {
   "cell_type": "code",
   "execution_count": null,
   "metadata": {},
   "outputs": [],
   "source": [
    "print('start')\n",
    "dic = {}\n",
    "j=0\n",
    "for i in a_list:\n",
    "    continue\n",
    "print('done')"
   ]
  },
  {
   "cell_type": "code",
   "execution_count": null,
   "metadata": {},
   "outputs": [],
   "source": [
    "a.head(3)"
   ]
  },
  {
   "cell_type": "code",
   "execution_count": null,
   "metadata": {},
   "outputs": [],
   "source": [
    "print('start')\n",
    "for i in range(7000000):\n",
    "    continue\n",
    "print('done')"
   ]
  },
  {
   "cell_type": "code",
   "execution_count": null,
   "metadata": {},
   "outputs": [],
   "source": [
    "a.head()"
   ]
  },
  {
   "cell_type": "code",
   "execution_count": null,
   "metadata": {},
   "outputs": [],
   "source": [
    "event_time = 'event_timestamp'\n",
    "news_id    = 'page.item.id'\n",
    "user_id    = 'eds_id'\n",
    "n_list = a[news_id].tolist()\n",
    "u_list = a[user_id].tolist()\n",
    "t_list = a[event_time].tolist()"
   ]
  },
  {
   "cell_type": "code",
   "execution_count": null,
   "metadata": {},
   "outputs": [],
   "source": [
    "logging.info('=============== START RUNNING ===============')\n"
   ]
  },
  {
   "cell_type": "code",
   "execution_count": null,
   "metadata": {},
   "outputs": [],
   "source": [
    "logging.info('=============== Start Sorting ===============')\n",
    "t_list,u_list,n_list = zip(*sorted(zip(t_list,u_list,n_list), reverse=True))\n",
    "logging.info('=============== Done Sorting ===============')"
   ]
  },
  {
   "cell_type": "code",
   "execution_count": null,
   "metadata": {},
   "outputs": [],
   "source": [
    "t_list[0]"
   ]
  },
  {
   "cell_type": "code",
   "execution_count": null,
   "metadata": {},
   "outputs": [],
   "source": [
    "t_list[-1]"
   ]
  }
 ],
 "metadata": {
  "kernelspec": {
   "display_name": "Python 3",
   "language": "python",
   "name": "python3"
  },
  "language_info": {
   "codemirror_mode": {
    "name": "ipython",
    "version": 3
   },
   "file_extension": ".py",
   "mimetype": "text/x-python",
   "name": "python",
   "nbconvert_exporter": "python",
   "pygments_lexer": "ipython3",
   "version": "3.6.7"
  }
 },
 "nbformat": 4,
 "nbformat_minor": 2
}
